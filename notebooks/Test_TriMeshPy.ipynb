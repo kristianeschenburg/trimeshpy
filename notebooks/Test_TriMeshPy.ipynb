{
 "cells": [
  {
   "cell_type": "code",
   "execution_count": 18,
   "metadata": {},
   "outputs": [],
   "source": [
    "import sys\n",
    "sys.path.append('../trimeshpy/')\n",
    "sys.path.append('../surfaceflow/')\n",
    "\n",
    "import nibabel as nb\n",
    "import numpy as np\n",
    "\n",
    "import trimeshpy\n",
    "#from trimeshpy.trimesh_vtk import TriMesh_Vtk\n",
    "from trimeshpy.trimeshflow_vtk import TriMeshFlow_Vtk\n",
    "from trimeshpy.vtk_util import lines_to_vtk_polydata, save_polydata\n",
    "\n",
    "import time"
   ]
  },
  {
   "cell_type": "code",
   "execution_count": 2,
   "metadata": {},
   "outputs": [],
   "source": [
    "surface_file = '/Users/kristianeschenburg/Desktop/Research/Data/Surfaces/285345.L.acpc_dc.white.32k_fs_LR.surf.gii'\n",
    "surface = nb.load(surface_file)\n",
    "\n",
    "triangles = surface.darrays[1].data\n",
    "vertices = surface.darrays[0].data"
   ]
  },
  {
   "cell_type": "code",
   "execution_count": 3,
   "metadata": {},
   "outputs": [],
   "source": [
    "#mesh = TriMesh_Vtk(triangles=triangles,vertices=vertices)\n",
    "tri_mesh_flow = TriMeshFlow_Vtk(triangles, vertices)"
   ]
  },
  {
   "cell_type": "code",
   "execution_count": 8,
   "metadata": {},
   "outputs": [],
   "source": [
    "# Test parameters\n",
    "nb_step = 10\n",
    "diffusion_step = 5\n",
    "saved_flow = trimeshpy.data.output_test_flow\n",
    "saved_fib = trimeshpy.data.output_test_fib\n"
   ]
  },
  {
   "cell_type": "code",
   "execution_count": 11,
   "metadata": {},
   "outputs": [
    {
     "name": "stdout",
     "output_type": "stream",
     "text": [
      " step 10 on 10 done \n",
      "9.648817300796509\n"
     ]
    }
   ],
   "source": [
    "# Test functions\n",
    "start = time.time()\n",
    "#points = tri_mesh_flow.laplacian_smooth(nb_step, diffusion_step, l2_dist_weighted=False, area_weighted=False, backward_step=False, flow_file=saved_flow)\n",
    "#points = tri_mesh_flow.curvature_normal_smooth(nb_step, diffusion_step, area_weighted=True, backward_step=True, flow_file=saved_flow)\n",
    "#points = tri_mesh_flow.positive_curvature_normal_smooth(nb_step, diffusion_step, area_weighted=True, backward_step=True, flow_file=saved_flow)\n",
    "#points = tri_mesh_flow.mass_stiffness_smooth(nb_step, diffusion_step, flow_file=saved_flow)\n",
    "points = tri_mesh_flow.positive_mass_stiffness_smooth(nb_step, diffusion_step, flow_file='/Users/kristianeschenburg/Desktop/Test.dat')\n",
    "#points = tri_mesh_flow.volume_mass_stiffness_smooth(nb_step, diffusion_step, flow_file=saved_flow)\n",
    "stop = time.time()\n",
    "print (stop - start)"
   ]
  },
  {
   "cell_type": "code",
   "execution_count": 16,
   "metadata": {},
   "outputs": [
    {
     "data": {
      "text/plain": [
       "(10, 32492, 3)"
      ]
     },
     "execution_count": 16,
     "metadata": {},
     "output_type": "execute_result"
    }
   ],
   "source": [
    "tri_mesh_flow.get_vertices_flow().shape"
   ]
  },
  {
   "cell_type": "code",
   "execution_count": 12,
   "metadata": {},
   "outputs": [
    {
     "name": "stderr",
     "output_type": "stream",
     "text": [
      "/Users/kristianeschenburg/anaconda3/lib/python3.6/site-packages/vtk/util/numpy_support.py:137: FutureWarning: Conversion of the second argument of issubdtype from `complex` to `np.complexfloating` is deprecated. In future, it will be treated as `np.complex128 == np.dtype(complex).type`.\n",
      "  assert not numpy.issubdtype(z.dtype, complex), \\\n"
     ]
    }
   ],
   "source": [
    "lines = np.memmap('/Users/kristianeschenburg/Desktop/Test.dat', dtype=np.float64, \n",
    "                  mode='r', shape=(nb_step, vertices.shape[0], vertices.shape[1]))\n",
    "tri_mesh_flow.set_vertices_flow(np.array(lines))\n",
    "tri_mesh_flow.display(display_name=\"Trimeshpy: Flow resulting surface\")\n",
    "tri_mesh_flow.display_vertices_flow(display_name=\"Trimeshpy: Flow visualization\")"
   ]
  },
  {
   "cell_type": "code",
   "execution_count": null,
   "metadata": {},
   "outputs": [],
   "source": [
    "da = surface.darrays[0]\n",
    "\n",
    "for l in np.arange(lines.shape[0]):\n",
    "    \n",
    "    coords = np.asarray(lines[l,:,:]).astype(np.float32)\n",
    "    da.data = coords\n",
    "    surface.darrays[0] = da\n",
    "    \n",
    "    fp = '/Users/kristianeschenburg/Desktop/Flow.L.{:}.surf.gii'.format(l+1)\n",
    "    nb.gifti.write(filename=fp,image=surface)"
   ]
  }
 ],
 "metadata": {
  "kernelspec": {
   "display_name": "Python 3",
   "language": "python",
   "name": "python3"
  },
  "language_info": {
   "codemirror_mode": {
    "name": "ipython",
    "version": 3
   },
   "file_extension": ".py",
   "mimetype": "text/x-python",
   "name": "python",
   "nbconvert_exporter": "python",
   "pygments_lexer": "ipython3",
   "version": "3.6.5"
  }
 },
 "nbformat": 4,
 "nbformat_minor": 2
}
