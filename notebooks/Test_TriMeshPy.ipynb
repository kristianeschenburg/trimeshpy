{
 "cells": [
  {
   "cell_type": "code",
   "execution_count": 1,
   "metadata": {},
   "outputs": [],
   "source": [
    "import sys\n",
    "sys.path.append('../')\n",
    "sys.path.append('../trimeshpy/')\n",
    "sys.path.append('../surfaceflow/')\n",
    "\n",
    "import nibabel as nb\n",
    "import numpy as np\n",
    "\n",
    "import trimeshpy\n",
    "from trimeshpy.trimeshflow_vtk import TriMeshFlow_Vtk\n",
    "from trimeshpy.vtk_util import lines_to_vtk_polydata, save_polydata\n",
    "\n",
    "import time"
   ]
  },
  {
   "cell_type": "code",
   "execution_count": 3,
   "metadata": {},
   "outputs": [],
   "source": [
    "surface_file = '/Users/kristianeschenburg/Desktop/Research/Data/Surfaces/285345.L.white.32k_fs_LR.acpc_dc.surf.gii'\n",
    "surface = nb.load(surface_file)\n",
    "\n",
    "triangles = surface.darrays[1].data\n",
    "vertices = surface.darrays[0].data"
   ]
  },
  {
   "cell_type": "code",
   "execution_count": 4,
   "metadata": {},
   "outputs": [],
   "source": [
    "#mesh = TriMesh_Vtk(triangles=triangles,vertices=vertices)\n",
    "tri_mesh_flow = TriMeshFlow_Vtk(triangles, vertices)"
   ]
  },
  {
   "cell_type": "code",
   "execution_count": 5,
   "metadata": {},
   "outputs": [],
   "source": [
    "# Test parameters\n",
    "nb_step = 10\n",
    "diffusion_step = 5\n",
    "saved_flow = trimeshpy.data.output_test_flow\n",
    "saved_fib = trimeshpy.data.output_test_fib\n"
   ]
  },
  {
   "cell_type": "code",
   "execution_count": 6,
   "metadata": {},
   "outputs": [
    {
     "name": "stdout",
     "output_type": "stream",
     "text": [
      " step 10 on 10 done \n",
      "10.3335542678833\n"
     ]
    }
   ],
   "source": [
    "# Test functions\n",
    "start = time.time()\n",
    "#points = tri_mesh_flow.laplacian_smooth(nb_step, diffusion_step, l2_dist_weighted=False, area_weighted=False, backward_step=False, flow_file=saved_flow)\n",
    "#points = tri_mesh_flow.curvature_normal_smooth(nb_step, diffusion_step, area_weighted=True, backward_step=True, flow_file=saved_flow)\n",
    "#points = tri_mesh_flow.positive_curvature_normal_smooth(nb_step, diffusion_step, area_weighted=True, backward_step=True, flow_file=saved_flow)\n",
    "#points = tri_mesh_flow.mass_stiffness_smooth(nb_step, diffusion_step, flow_file=saved_flow)\n",
    "points = tri_mesh_flow.positive_mass_stiffness_smooth(nb_step, diffusion_step, flow_file='/Users/kristianeschenburg/Desktop/Test.dat')\n",
    "#points = tri_mesh_flow.volume_mass_stiffness_smooth(nb_step, diffusion_step, flow_file=saved_flow)\n",
    "stop = time.time()\n",
    "print (stop - start)"
   ]
  },
  {
   "cell_type": "code",
   "execution_count": 7,
   "metadata": {},
   "outputs": [
    {
     "name": "stderr",
     "output_type": "stream",
     "text": [
      "/Users/kristianeschenburg/anaconda3/lib/python3.7/site-packages/vtk/util/numpy_support.py:137: FutureWarning: Conversion of the second argument of issubdtype from `complex` to `np.complexfloating` is deprecated. In future, it will be treated as `np.complex128 == np.dtype(complex).type`.\n",
      "  assert not numpy.issubdtype(z.dtype, complex), \\\n"
     ]
    }
   ],
   "source": [
    "lines = np.memmap('/Users/kristianeschenburg/Desktop/Test.dat', dtype=np.float64, \n",
    "                  mode='r', shape=(nb_step, vertices.shape[0], vertices.shape[1]))\n",
    "\n",
    "tri_mesh_flow.set_vertices_flow(np.array(lines))\n",
    "tri_mesh_flow.display(display_name=\"Trimeshpy: Flow resulting surface\")\n",
    "tri_mesh_flow.display_vertices_flow(display_name=\"Trimeshpy: Flow visualization\")"
   ]
  },
  {
   "cell_type": "code",
   "execution_count": 8,
   "metadata": {},
   "outputs": [],
   "source": [
    "np.asarray(lines)\n",
    "np.save('/Users/kristianeschenburg/Desktop/FlowLines',arr=np.asarray(lines))"
   ]
  },
  {
   "cell_type": "code",
   "execution_count": 9,
   "metadata": {},
   "outputs": [
    {
     "name": "stderr",
     "output_type": "stream",
     "text": [
      "/Users/kristianeschenburg/anaconda3/lib/python3.7/site-packages/ipykernel_launcher.py:10: DeprecationWarning: giftiio.write function deprecated. Use nibabel.load() instead.\n",
      "\n",
      "* deprecated from version: 2.1\n",
      "* Will raise <class 'nibabel.deprecator.ExpiredDeprecationError'> as of version: 4.0\n",
      "  # Remove the CWD from sys.path while we load stuff.\n"
     ]
    }
   ],
   "source": [
    "da = surface.darrays[0]\n",
    "\n",
    "for l in np.arange(lines.shape[0]):\n",
    "    \n",
    "    coords = np.asarray(lines[l,:,:]).astype(np.float32)\n",
    "    da.data = coords\n",
    "    surface.darrays[0] = da\n",
    "    \n",
    "    fp = '/Users/kristianeschenburg/Desktop/Flow.L.{:}.surf.gii'.format(l+1)\n",
    "    nb.gifti.write(filename=fp,image=surface)"
   ]
  },
  {
   "cell_type": "code",
   "execution_count": 154,
   "metadata": {},
   "outputs": [],
   "source": [
    "meta_dict = {'AnatomicalStructurePrimary': 'CortexLeft',\n",
    "                                    'AnatomicalStructureSecondary': 'GrayWhite',\n",
    "                                     'Caret-Version': '5.65',\n",
    "                                     'GeometricType': 'Anatomical',\n",
    "                                     'topo_file': 'Conte69.L.32k_fs_LR.topo.gii'}"
   ]
  },
  {
   "cell_type": "code",
   "execution_count": 155,
   "metadata": {},
   "outputs": [],
   "source": [
    "meta = nb.gifti.gifti.GiftiMetaData()\n",
    "\n",
    "for k,v in meta_dict.items():\n",
    "    nvp = nb.gifti.gifti.GiftiNVPairs(name=k,value=v)\n",
    "    meta.data.append(nvp)\n",
    "    "
   ]
  },
  {
   "cell_type": "code",
   "execution_count": 160,
   "metadata": {},
   "outputs": [],
   "source": [
    "coordsys = nb.gifti.gifti.GiftiCoordSystem(dataspace='NIFTI_XFORM_TALAIRACH',xformspace='NIFTI_XFORM_TALAIRACH',xform=np.eye(4))\n",
    "\n",
    "da0 = nb.gifti.gifti.GiftiDataArray(intent='NIFTI_INTENT_POINTSET',\n",
    "                                    datatype='NIFTI_TYPE_FLOAT32',\n",
    "                                    coordsys=coordsys,\n",
    "                                    data=vertices,\n",
    "                                    encoding='GZipBase64Binary',\n",
    "                                    meta = meta)\n",
    "\n",
    "da1 = nb.gifti.gifti.GiftiDataArray(intent='NIFTI_INTENT_TRIANGLE',\n",
    "                                    datatype='NIFTI_TYPE_INT32',\n",
    "                                    coordsys=coordsys,\n",
    "                                    data=triangles,\n",
    "                                    encoding='GZipBase64Binary')\n",
    "\n",
    "S = nb.gifti.gifti.GiftiImage(darrays=[da0,da1])"
   ]
  },
  {
   "cell_type": "code",
   "execution_count": 161,
   "metadata": {},
   "outputs": [],
   "source": [
    "S.to_filename('/Users/kristianeschenburg/Desktop/TestSaveFile.surf.gii')"
   ]
  },
  {
   "cell_type": "code",
   "execution_count": 1,
   "metadata": {},
   "outputs": [],
   "source": [
    "from niio import write"
   ]
  },
  {
   "cell_type": "code",
   "execution_count": 2,
   "metadata": {},
   "outputs": [
    {
     "data": {
      "text/plain": [
       "\u001b[0;31mSignature:\u001b[0m \u001b[0mwrite\u001b[0m\u001b[0;34m.\u001b[0m\u001b[0msave_surf\u001b[0m\u001b[0;34m(\u001b[0m\u001b[0mvertices\u001b[0m\u001b[0;34m,\u001b[0m \u001b[0mtriangles\u001b[0m\u001b[0;34m,\u001b[0m \u001b[0moutput\u001b[0m\u001b[0;34m,\u001b[0m \u001b[0mhemisphere\u001b[0m\u001b[0;34m=\u001b[0m\u001b[0;32mNone\u001b[0m\u001b[0;34m)\u001b[0m\u001b[0;34m\u001b[0m\u001b[0m\n",
       "\u001b[0;31mDocstring:\u001b[0m\n",
       "Save a list of vertices and triangles to a surface file.\n",
       "\n",
       "Parameters:\n",
       "- - - - -\n",
       "vertices: array, float\n",
       "    3d coordinates of mesh points\n",
       "triangles: array, int\n",
       "    list of mesh triangles\n",
       "output: string\n",
       "    output file name\n",
       "hemisphere: string\n",
       "    'CortexLeft' or 'CortexRight'\n",
       "\u001b[0;31mFile:\u001b[0m      ~/Documents/Code/niio/niio/write.py\n",
       "\u001b[0;31mType:\u001b[0m      function\n"
      ]
     },
     "metadata": {},
     "output_type": "display_data"
    }
   ],
   "source": [
    "write.save_surf?"
   ]
  },
  {
   "cell_type": "code",
   "execution_count": null,
   "metadata": {},
   "outputs": [],
   "source": []
  }
 ],
 "metadata": {
  "kernelspec": {
   "display_name": "Python 3",
   "language": "python",
   "name": "python3"
  },
  "language_info": {
   "codemirror_mode": {
    "name": "ipython",
    "version": 3
   },
   "file_extension": ".py",
   "mimetype": "text/x-python",
   "name": "python",
   "nbconvert_exporter": "python",
   "pygments_lexer": "ipython3",
   "version": "3.7.0"
  }
 },
 "nbformat": 4,
 "nbformat_minor": 2
}
