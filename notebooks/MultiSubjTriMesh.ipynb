{
 "cells": [
  {
   "cell_type": "code",
   "execution_count": 40,
   "metadata": {},
   "outputs": [],
   "source": [
    "from glob import glob\n",
    "import os\n",
    "import sys"
   ]
  },
  {
   "cell_type": "code",
   "execution_count": 48,
   "metadata": {},
   "outputs": [],
   "source": [
    "surf_dir = '/Users/kristianeschenburg/Desktop/Research/Data/Surfaces/'\n",
    "flow_dir = '/Users/kristianeschenburg/Desktop/Research/Data/FlowLines/'\n",
    "\n",
    "surfaces = glob('{:}*white*.acpc_dc.surf.gii'.format(surf_dir))"
   ]
  },
  {
   "cell_type": "code",
   "execution_count": 50,
   "metadata": {},
   "outputs": [],
   "source": [
    "os.chdir('../')\n",
    "\n",
    "import surfaceflow.flows as flows\n",
    "from niio import loaded,write\n",
    "import nibabel as nb\n",
    "import numpy as np\n",
    "\n",
    "import pandas as pd"
   ]
  },
  {
   "cell_type": "code",
   "execution_count": 51,
   "metadata": {},
   "outputs": [],
   "source": [
    "G_DTYPE = np.float64\n",
    "steps = 10\n",
    "timestep = 5\n",
    "\n",
    "nverts = 32492\n",
    "ncoors = 3"
   ]
  },
  {
   "cell_type": "markdown",
   "metadata": {},
   "source": [
    "Compute surface flow for surfaces, and save flow as *.dat* file."
   ]
  },
  {
   "cell_type": "code",
   "execution_count": 52,
   "metadata": {},
   "outputs": [
    {
     "name": "stdout",
     "output_type": "stream",
     "text": [
      " step 10 on 10 done \n",
      " step 10 on 10 done \n",
      " step 10 on 10 done \n",
      " step 10 on 10 done \n",
      " step 10 on 10 done \n",
      " step 10 on 10 done \n",
      " step 10 on 10 done \n",
      " step 10 on 10 done \n",
      " step 10 on 10 done \n",
      " step 10 on 10 done \n"
     ]
    }
   ],
   "source": [
    "for surface_file in surfaces:\n",
    "    \n",
    "    sid = surface_file.split('/')[-1].split('.')[0]\n",
    "    outbase = '{:}{:}.L.white.FlowLines.nb.10.diff.5.acpc'.format(flow_dir,sid)\n",
    "    \n",
    "    surface = nb.load(surface_file)\n",
    "    vertices = surface.darrays[0].data\n",
    "    triangles = surface.darrays[1].data\n",
    "\n",
    "    flow_file = '{:}.dat'.format(outbase)\n",
    "    curvs = flows.flow_trajectories(vertices=vertices, triangles=triangles, \n",
    "                                    flow_file=flow_file,\n",
    "                                    steps=steps, timestep=timestep)"
   ]
  },
  {
   "cell_type": "markdown",
   "metadata": {},
   "source": [
    "Compute surfaces for each flow iteration."
   ]
  },
  {
   "cell_type": "code",
   "execution_count": 64,
   "metadata": {},
   "outputs": [],
   "source": [
    "flow_lines = glob('{:}*.dat'.format(flow_dir))\n",
    "\n",
    "for fl in flow_lines:\n",
    "    \n",
    "    sid = fl.split('/')[-1].split('.')[0]\n",
    "    outbase = '{:}{:}.L.white.FlowAngle.nb.10.diff.5.acpc'.format(flow_dir,sid)\n",
    "    \n",
    "    lines = np.memmap(fl, \n",
    "                      dtype=G_DTYPE, \n",
    "                      mode='r', \n",
    "                      shape=(steps, nverts, ncoors))\n",
    "    lines = np.asarray(lines).squeeze()\n",
    "    \n",
    "    for tg in [2,9]:\n",
    "        \n",
    "        outsurf = '{:}{:}.L.white.Flow.{:}.nb.10.diff.5.acpc.surf.gii'.format(flow_dir,sid,tg)\n",
    "        flow_verts = lines[tg,:,:].squeeze().astype('float32')\n",
    "        write.save_surf(flow_verts, triangles, outsurf, hemisphere='CortexLeft')\n",
    "        "
   ]
  },
  {
   "cell_type": "markdown",
   "metadata": {},
   "source": [
    "Compute flow angles with a surface step size of 2."
   ]
  },
  {
   "cell_type": "code",
   "execution_count": 65,
   "metadata": {},
   "outputs": [],
   "source": [
    "for fl in flow_lines:\n",
    "    \n",
    "    sid = fl.split('/')[-1].split('.')[0]\n",
    "    outbase = '{:}{:}.L.white.FlowAngle.nb.10.diff.5.acpc'.format(flow_dir,sid)\n",
    "    \n",
    "    lines = np.memmap(fl, \n",
    "                      dtype=G_DTYPE, \n",
    "                      mode='r', \n",
    "                      shape=(steps, nverts, ncoors))\n",
    "    lines = np.asarray(lines).squeeze()\n",
    "    \n",
    "    for tg in [2,9]:\n",
    "        \n",
    "        source = lines[tg-2,:,:].squeeze()\n",
    "        target = lines[tg,:,:].squeeze()\n",
    "        [r,theta,phi] = flows.flow_angle(source, target)\n",
    "        \n",
    "        angles = {'theta': theta, \n",
    "                  'phi': phi}\n",
    "        \n",
    "        outpath = '{:}.{:}.{:}.csv'.format(outbase,tg-2,tg)\n",
    "        angles = pd.DataFrame(angles)\n",
    "        angles.to_csv(path_or_buf=outpath,\n",
    "                     header=False,index=False,sep='\\t')\n",
    "    \n",
    "    \n"
   ]
  },
  {
   "cell_type": "code",
   "execution_count": 1,
   "metadata": {},
   "outputs": [],
   "source": [
    "from niio import write"
   ]
  },
  {
   "cell_type": "code",
   "execution_count": 3,
   "metadata": {},
   "outputs": [
    {
     "data": {
      "text/plain": [
       "\u001b[0;31mSignature:\u001b[0m \u001b[0mwrite\u001b[0m\u001b[0;34m.\u001b[0m\u001b[0msave_surf\u001b[0m\u001b[0;34m(\u001b[0m\u001b[0mvertices\u001b[0m\u001b[0;34m,\u001b[0m \u001b[0mtriangles\u001b[0m\u001b[0;34m,\u001b[0m \u001b[0moutput\u001b[0m\u001b[0;34m,\u001b[0m \u001b[0mhemisphere\u001b[0m\u001b[0;34m=\u001b[0m\u001b[0;32mNone\u001b[0m\u001b[0;34m)\u001b[0m\u001b[0;34m\u001b[0m\u001b[0m\n",
       "\u001b[0;31mSource:\u001b[0m   \n",
       "\u001b[0;32mdef\u001b[0m \u001b[0msave_surf\u001b[0m\u001b[0;34m(\u001b[0m\u001b[0mvertices\u001b[0m\u001b[0;34m,\u001b[0m \u001b[0mtriangles\u001b[0m\u001b[0;34m,\u001b[0m \u001b[0moutput\u001b[0m\u001b[0;34m,\u001b[0m \u001b[0mhemisphere\u001b[0m\u001b[0;34m=\u001b[0m\u001b[0;32mNone\u001b[0m\u001b[0;34m)\u001b[0m\u001b[0;34m:\u001b[0m\u001b[0;34m\u001b[0m\n",
       "\u001b[0;34m\u001b[0m\u001b[0;34m\u001b[0m\n",
       "\u001b[0;34m\u001b[0m    \u001b[0;34m\"\"\"\u001b[0m\n",
       "\u001b[0;34m    Save a list of vertices and triangles to a surface file.\u001b[0m\n",
       "\u001b[0;34m\u001b[0m\n",
       "\u001b[0;34m    Parameters:\u001b[0m\n",
       "\u001b[0;34m    - - - - -\u001b[0m\n",
       "\u001b[0;34m    vertices: array, float\u001b[0m\n",
       "\u001b[0;34m        3d coordinates of mesh points\u001b[0m\n",
       "\u001b[0;34m    triangles: array, int\u001b[0m\n",
       "\u001b[0;34m        list of mesh triangles\u001b[0m\n",
       "\u001b[0;34m    output: string\u001b[0m\n",
       "\u001b[0;34m        output file name\u001b[0m\n",
       "\u001b[0;34m    hemisphere: string\u001b[0m\n",
       "\u001b[0;34m        'CortexLeft' or 'CortexRight'\u001b[0m\n",
       "\u001b[0;34m    \"\"\"\u001b[0m\u001b[0;34m\u001b[0m\n",
       "\u001b[0;34m\u001b[0m\u001b[0;34m\u001b[0m\n",
       "\u001b[0;34m\u001b[0m    \u001b[0;31m# Initialize meta-data dictionary structure\u001b[0m\u001b[0;34m\u001b[0m\n",
       "\u001b[0;34m\u001b[0m    \u001b[0mmeta_dict\u001b[0m \u001b[0;34m=\u001b[0m \u001b[0;34m{\u001b[0m\u001b[0;34m'AnatomicalStructurePrimary'\u001b[0m\u001b[0;34m:\u001b[0m \u001b[0mhemisphere\u001b[0m\u001b[0;34m,\u001b[0m\u001b[0;34m\u001b[0m\n",
       "\u001b[0;34m\u001b[0m                 \u001b[0;34m'AnatomicalStructureSecondary'\u001b[0m\u001b[0;34m:\u001b[0m \u001b[0;34m'GrayWhite'\u001b[0m\u001b[0;34m,\u001b[0m\u001b[0;34m\u001b[0m\n",
       "\u001b[0;34m\u001b[0m                 \u001b[0;34m'Caret-Version'\u001b[0m\u001b[0;34m:\u001b[0m \u001b[0;34m'5.65'\u001b[0m\u001b[0;34m,\u001b[0m\u001b[0;34m\u001b[0m\n",
       "\u001b[0;34m\u001b[0m                 \u001b[0;34m'GeometricType'\u001b[0m\u001b[0;34m:\u001b[0m \u001b[0;34m'Anatomical'\u001b[0m\u001b[0;34m}\u001b[0m\u001b[0;34m\u001b[0m\n",
       "\u001b[0;34m\u001b[0m\u001b[0;34m\u001b[0m\n",
       "\u001b[0;34m\u001b[0m    \u001b[0;31m# Write meta data to GiftiMetaData object\u001b[0m\u001b[0;34m\u001b[0m\n",
       "\u001b[0;34m\u001b[0m    \u001b[0mmeta\u001b[0m \u001b[0;34m=\u001b[0m \u001b[0mnb\u001b[0m\u001b[0;34m.\u001b[0m\u001b[0mgifti\u001b[0m\u001b[0;34m.\u001b[0m\u001b[0mgifti\u001b[0m\u001b[0;34m.\u001b[0m\u001b[0mGiftiMetaData\u001b[0m\u001b[0;34m(\u001b[0m\u001b[0;34m)\u001b[0m\u001b[0;34m\u001b[0m\n",
       "\u001b[0;34m\u001b[0m    \u001b[0;32mfor\u001b[0m \u001b[0mk\u001b[0m\u001b[0;34m,\u001b[0m \u001b[0mv\u001b[0m \u001b[0;32min\u001b[0m \u001b[0mmeta_dict\u001b[0m\u001b[0;34m.\u001b[0m\u001b[0mitems\u001b[0m\u001b[0;34m(\u001b[0m\u001b[0;34m)\u001b[0m\u001b[0;34m:\u001b[0m\u001b[0;34m\u001b[0m\n",
       "\u001b[0;34m\u001b[0m        \u001b[0mnvp\u001b[0m \u001b[0;34m=\u001b[0m \u001b[0mnb\u001b[0m\u001b[0;34m.\u001b[0m\u001b[0mgifti\u001b[0m\u001b[0;34m.\u001b[0m\u001b[0mgifti\u001b[0m\u001b[0;34m.\u001b[0m\u001b[0mGiftiNVPairs\u001b[0m\u001b[0;34m(\u001b[0m\u001b[0mname\u001b[0m\u001b[0;34m=\u001b[0m\u001b[0mk\u001b[0m\u001b[0;34m,\u001b[0m \u001b[0mvalue\u001b[0m\u001b[0;34m=\u001b[0m\u001b[0mv\u001b[0m\u001b[0;34m)\u001b[0m\u001b[0;34m\u001b[0m\n",
       "\u001b[0;34m\u001b[0m        \u001b[0mmeta\u001b[0m\u001b[0;34m.\u001b[0m\u001b[0mdata\u001b[0m\u001b[0;34m.\u001b[0m\u001b[0mappend\u001b[0m\u001b[0;34m(\u001b[0m\u001b[0mnvp\u001b[0m\u001b[0;34m)\u001b[0m\u001b[0;34m\u001b[0m\n",
       "\u001b[0;34m\u001b[0m\u001b[0;34m\u001b[0m\n",
       "\u001b[0;34m\u001b[0m    \u001b[0;31m# Initialize GiftiCoordSystem object\u001b[0m\u001b[0;34m\u001b[0m\n",
       "\u001b[0;34m\u001b[0m    \u001b[0mcoordsys\u001b[0m \u001b[0;34m=\u001b[0m \u001b[0mnb\u001b[0m\u001b[0;34m.\u001b[0m\u001b[0mgifti\u001b[0m\u001b[0;34m.\u001b[0m\u001b[0mgifti\u001b[0m\u001b[0;34m.\u001b[0m\u001b[0mGiftiCoordSystem\u001b[0m\u001b[0;34m(\u001b[0m\u001b[0mdataspace\u001b[0m\u001b[0;34m=\u001b[0m\u001b[0;34m'NIFTI_XFORM_TALAIRACH'\u001b[0m\u001b[0;34m,\u001b[0m\u001b[0;34m\u001b[0m\n",
       "\u001b[0;34m\u001b[0m                                               \u001b[0mxformspace\u001b[0m\u001b[0;34m=\u001b[0m\u001b[0;34m'NIFTI_XFORM_TALAIRACH'\u001b[0m\u001b[0;34m,\u001b[0m\u001b[0;34m\u001b[0m\n",
       "\u001b[0;34m\u001b[0m                                               \u001b[0mxform\u001b[0m\u001b[0;34m=\u001b[0m\u001b[0mnp\u001b[0m\u001b[0;34m.\u001b[0m\u001b[0meye\u001b[0m\u001b[0;34m(\u001b[0m\u001b[0;36m4\u001b[0m\u001b[0;34m)\u001b[0m\u001b[0;34m)\u001b[0m\u001b[0;34m\u001b[0m\n",
       "\u001b[0;34m\u001b[0m\u001b[0;34m\u001b[0m\n",
       "\u001b[0;34m\u001b[0m    \u001b[0;31m# Initialize data array of vertices\u001b[0m\u001b[0;34m\u001b[0m\n",
       "\u001b[0;34m\u001b[0m    \u001b[0md0\u001b[0m \u001b[0;34m=\u001b[0m \u001b[0mnb\u001b[0m\u001b[0;34m.\u001b[0m\u001b[0mgifti\u001b[0m\u001b[0;34m.\u001b[0m\u001b[0mgifti\u001b[0m\u001b[0;34m.\u001b[0m\u001b[0mGiftiDataArray\u001b[0m\u001b[0;34m(\u001b[0m\u001b[0mintent\u001b[0m\u001b[0;34m=\u001b[0m\u001b[0;34m'NIFTI_INTENT_POINTSET'\u001b[0m\u001b[0;34m,\u001b[0m\u001b[0;34m\u001b[0m\n",
       "\u001b[0;34m\u001b[0m                                       \u001b[0mdatatype\u001b[0m\u001b[0;34m=\u001b[0m\u001b[0;34m'NIFTI_TYPE_FLOAT32'\u001b[0m\u001b[0;34m,\u001b[0m\u001b[0;34m\u001b[0m\n",
       "\u001b[0;34m\u001b[0m                                       \u001b[0mcoordsys\u001b[0m\u001b[0;34m=\u001b[0m\u001b[0mcoordsys\u001b[0m\u001b[0;34m,\u001b[0m\u001b[0;34m\u001b[0m\n",
       "\u001b[0;34m\u001b[0m                                       \u001b[0mdata\u001b[0m\u001b[0;34m=\u001b[0m\u001b[0mvertices\u001b[0m\u001b[0;34m,\u001b[0m\u001b[0;34m\u001b[0m\n",
       "\u001b[0;34m\u001b[0m                                       \u001b[0mencoding\u001b[0m\u001b[0;34m=\u001b[0m\u001b[0;34m'GZipBase64Binary'\u001b[0m\u001b[0;34m,\u001b[0m\u001b[0;34m\u001b[0m\n",
       "\u001b[0;34m\u001b[0m                                       \u001b[0mmeta\u001b[0m\u001b[0;34m=\u001b[0m\u001b[0mmeta\u001b[0m\u001b[0;34m)\u001b[0m\u001b[0;34m\u001b[0m\n",
       "\u001b[0;34m\u001b[0m\u001b[0;34m\u001b[0m\n",
       "\u001b[0;34m\u001b[0m    \u001b[0;31m# Initialize data array of triangles\u001b[0m\u001b[0;34m\u001b[0m\n",
       "\u001b[0;34m\u001b[0m    \u001b[0md1\u001b[0m \u001b[0;34m=\u001b[0m \u001b[0mnb\u001b[0m\u001b[0;34m.\u001b[0m\u001b[0mgifti\u001b[0m\u001b[0;34m.\u001b[0m\u001b[0mgifti\u001b[0m\u001b[0;34m.\u001b[0m\u001b[0mGiftiDataArray\u001b[0m\u001b[0;34m(\u001b[0m\u001b[0mintent\u001b[0m\u001b[0;34m=\u001b[0m\u001b[0;34m'NIFTI_INTENT_TRIANGLE'\u001b[0m\u001b[0;34m,\u001b[0m\u001b[0;34m\u001b[0m\n",
       "\u001b[0;34m\u001b[0m                                    \u001b[0mdatatype\u001b[0m\u001b[0;34m=\u001b[0m\u001b[0;34m'NIFTI_TYPE_INT32'\u001b[0m\u001b[0;34m,\u001b[0m\u001b[0;34m\u001b[0m\n",
       "\u001b[0;34m\u001b[0m                                    \u001b[0mcoordsys\u001b[0m\u001b[0;34m=\u001b[0m\u001b[0mcoordsys\u001b[0m\u001b[0;34m,\u001b[0m\u001b[0;34m\u001b[0m\n",
       "\u001b[0;34m\u001b[0m                                    \u001b[0mdata\u001b[0m\u001b[0;34m=\u001b[0m\u001b[0mtriangles\u001b[0m\u001b[0;34m,\u001b[0m\u001b[0;34m\u001b[0m\n",
       "\u001b[0;34m\u001b[0m                                    \u001b[0mencoding\u001b[0m\u001b[0;34m=\u001b[0m\u001b[0;34m'GZipBase64Binary'\u001b[0m\u001b[0;34m)\u001b[0m\u001b[0;34m\u001b[0m\n",
       "\u001b[0;34m\u001b[0m\u001b[0;34m\u001b[0m\n",
       "\u001b[0;34m\u001b[0m    \u001b[0mS\u001b[0m \u001b[0;34m=\u001b[0m \u001b[0mnb\u001b[0m\u001b[0;34m.\u001b[0m\u001b[0mgifti\u001b[0m\u001b[0;34m.\u001b[0m\u001b[0mgifti\u001b[0m\u001b[0;34m.\u001b[0m\u001b[0mGiftiImage\u001b[0m\u001b[0;34m(\u001b[0m\u001b[0mdarrays\u001b[0m\u001b[0;34m=\u001b[0m\u001b[0;34m[\u001b[0m\u001b[0md0\u001b[0m\u001b[0;34m,\u001b[0m\u001b[0md1\u001b[0m\u001b[0;34m]\u001b[0m\u001b[0;34m)\u001b[0m\u001b[0;34m\u001b[0m\n",
       "\u001b[0;34m\u001b[0m    \u001b[0mS\u001b[0m\u001b[0;34m.\u001b[0m\u001b[0mto_filename\u001b[0m\u001b[0;34m(\u001b[0m\u001b[0moutput\u001b[0m\u001b[0;34m)\u001b[0m\u001b[0;34m\u001b[0m\u001b[0m\n",
       "\u001b[0;31mFile:\u001b[0m      ~/Documents/Code/niio/niio/write.py\n",
       "\u001b[0;31mType:\u001b[0m      function\n"
      ]
     },
     "metadata": {},
     "output_type": "display_data"
    }
   ],
   "source": [
    "write.save_surf??"
   ]
  },
  {
   "cell_type": "code",
   "execution_count": null,
   "metadata": {},
   "outputs": [],
   "source": []
  }
 ],
 "metadata": {
  "kernelspec": {
   "display_name": "Python 3",
   "language": "python",
   "name": "python3"
  },
  "language_info": {
   "codemirror_mode": {
    "name": "ipython",
    "version": 3
   },
   "file_extension": ".py",
   "mimetype": "text/x-python",
   "name": "python",
   "nbconvert_exporter": "python",
   "pygments_lexer": "ipython3",
   "version": "3.7.0"
  }
 },
 "nbformat": 4,
 "nbformat_minor": 2
}
